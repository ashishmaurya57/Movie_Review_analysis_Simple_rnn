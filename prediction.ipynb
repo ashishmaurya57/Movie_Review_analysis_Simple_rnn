{
 "cells": [
  {
   "cell_type": "code",
   "execution_count": null,
   "metadata": {},
   "outputs": [],
   "source": [
    "import pandas as pd\n",
    "import tensorflow as tf\n",
    "from tensorflow.keras.preprocessing.text import one_hot\n",
    "## word embeddingb representation\n",
    "from tensorflow.keras.datasets import imdb\n",
    "\n",
    "from tensorflow.keras.layers import Embedding, SimpleRNN, Dense\n",
    "from tensorflow.keras.preprocessing import sequence\n",
    "from tensorflow.keras.utils import pad_sequences\n",
    "from tensorflow.keras.models import Sequential"
   ]
  },
  {
   "cell_type": "code",
   "execution_count": null,
   "metadata": {},
   "outputs": [],
   "source": [
    "## mapping of word index back to words\n",
    "from tensorflow.keras.models import load_model\n",
    "\n",
    "word_index=imdb.get_word_index()\n",
    "word_index\n",
    "reverse_word_index={value: key for key , value in word_index.items()}"
   ]
  },
  {
   "cell_type": "code",
   "execution_count": null,
   "metadata": {},
   "outputs": [
    {
     "name": "stderr",
     "output_type": "stream",
     "text": [
      "WARNING:absl:Compiled the loaded model, but the compiled metrics have yet to be built. `model.compile_metrics` will be empty until you train or evaluate the model.\n"
     ]
    },
    {
     "data": {
      "text/html": [
       "<pre style=\"white-space:pre;overflow-x:auto;line-height:normal;font-family:Menlo,'DejaVu Sans Mono',consolas,'Courier New',monospace\"><span style=\"font-weight: bold\">Model: \"sequential_2\"</span>\n",
       "</pre>\n"
      ],
      "text/plain": [
       "\u001b[1mModel: \"sequential_2\"\u001b[0m\n"
      ]
     },
     "metadata": {},
     "output_type": "display_data"
    },
    {
     "data": {
      "text/html": [
       "<pre style=\"white-space:pre;overflow-x:auto;line-height:normal;font-family:Menlo,'DejaVu Sans Mono',consolas,'Courier New',monospace\">┏━━━━━━━━━━━━━━━━━━━━━━━━━━━━━━━━━┳━━━━━━━━━━━━━━━━━━━━━━━━┳━━━━━━━━━━━━━━━┓\n",
       "┃<span style=\"font-weight: bold\"> Layer (type)                    </span>┃<span style=\"font-weight: bold\"> Output Shape           </span>┃<span style=\"font-weight: bold\">       Param # </span>┃\n",
       "┡━━━━━━━━━━━━━━━━━━━━━━━━━━━━━━━━━╇━━━━━━━━━━━━━━━━━━━━━━━━╇━━━━━━━━━━━━━━━┩\n",
       "│ embedding_2 (<span style=\"color: #0087ff; text-decoration-color: #0087ff\">Embedding</span>)         │ (<span style=\"color: #00af00; text-decoration-color: #00af00\">32</span>, <span style=\"color: #00af00; text-decoration-color: #00af00\">500</span>, <span style=\"color: #00af00; text-decoration-color: #00af00\">128</span>)         │     <span style=\"color: #00af00; text-decoration-color: #00af00\">1,280,000</span> │\n",
       "├─────────────────────────────────┼────────────────────────┼───────────────┤\n",
       "│ simple_rnn_2 (<span style=\"color: #0087ff; text-decoration-color: #0087ff\">SimpleRNN</span>)        │ (<span style=\"color: #00af00; text-decoration-color: #00af00\">32</span>, <span style=\"color: #00af00; text-decoration-color: #00af00\">128</span>)              │        <span style=\"color: #00af00; text-decoration-color: #00af00\">32,896</span> │\n",
       "├─────────────────────────────────┼────────────────────────┼───────────────┤\n",
       "│ dense_2 (<span style=\"color: #0087ff; text-decoration-color: #0087ff\">Dense</span>)                 │ (<span style=\"color: #00af00; text-decoration-color: #00af00\">32</span>, <span style=\"color: #00af00; text-decoration-color: #00af00\">1</span>)                │           <span style=\"color: #00af00; text-decoration-color: #00af00\">129</span> │\n",
       "└─────────────────────────────────┴────────────────────────┴───────────────┘\n",
       "</pre>\n"
      ],
      "text/plain": [
       "┏━━━━━━━━━━━━━━━━━━━━━━━━━━━━━━━━━┳━━━━━━━━━━━━━━━━━━━━━━━━┳━━━━━━━━━━━━━━━┓\n",
       "┃\u001b[1m \u001b[0m\u001b[1mLayer (type)                   \u001b[0m\u001b[1m \u001b[0m┃\u001b[1m \u001b[0m\u001b[1mOutput Shape          \u001b[0m\u001b[1m \u001b[0m┃\u001b[1m \u001b[0m\u001b[1m      Param #\u001b[0m\u001b[1m \u001b[0m┃\n",
       "┡━━━━━━━━━━━━━━━━━━━━━━━━━━━━━━━━━╇━━━━━━━━━━━━━━━━━━━━━━━━╇━━━━━━━━━━━━━━━┩\n",
       "│ embedding_2 (\u001b[38;5;33mEmbedding\u001b[0m)         │ (\u001b[38;5;34m32\u001b[0m, \u001b[38;5;34m500\u001b[0m, \u001b[38;5;34m128\u001b[0m)         │     \u001b[38;5;34m1,280,000\u001b[0m │\n",
       "├─────────────────────────────────┼────────────────────────┼───────────────┤\n",
       "│ simple_rnn_2 (\u001b[38;5;33mSimpleRNN\u001b[0m)        │ (\u001b[38;5;34m32\u001b[0m, \u001b[38;5;34m128\u001b[0m)              │        \u001b[38;5;34m32,896\u001b[0m │\n",
       "├─────────────────────────────────┼────────────────────────┼───────────────┤\n",
       "│ dense_2 (\u001b[38;5;33mDense\u001b[0m)                 │ (\u001b[38;5;34m32\u001b[0m, \u001b[38;5;34m1\u001b[0m)                │           \u001b[38;5;34m129\u001b[0m │\n",
       "└─────────────────────────────────┴────────────────────────┴───────────────┘\n"
      ]
     },
     "metadata": {},
     "output_type": "display_data"
    },
    {
     "data": {
      "text/html": [
       "<pre style=\"white-space:pre;overflow-x:auto;line-height:normal;font-family:Menlo,'DejaVu Sans Mono',consolas,'Courier New',monospace\"><span style=\"font-weight: bold\"> Total params: </span><span style=\"color: #00af00; text-decoration-color: #00af00\">1,313,027</span> (5.01 MB)\n",
       "</pre>\n"
      ],
      "text/plain": [
       "\u001b[1m Total params: \u001b[0m\u001b[38;5;34m1,313,027\u001b[0m (5.01 MB)\n"
      ]
     },
     "metadata": {},
     "output_type": "display_data"
    },
    {
     "data": {
      "text/html": [
       "<pre style=\"white-space:pre;overflow-x:auto;line-height:normal;font-family:Menlo,'DejaVu Sans Mono',consolas,'Courier New',monospace\"><span style=\"font-weight: bold\"> Trainable params: </span><span style=\"color: #00af00; text-decoration-color: #00af00\">1,313,025</span> (5.01 MB)\n",
       "</pre>\n"
      ],
      "text/plain": [
       "\u001b[1m Trainable params: \u001b[0m\u001b[38;5;34m1,313,025\u001b[0m (5.01 MB)\n"
      ]
     },
     "metadata": {},
     "output_type": "display_data"
    },
    {
     "data": {
      "text/html": [
       "<pre style=\"white-space:pre;overflow-x:auto;line-height:normal;font-family:Menlo,'DejaVu Sans Mono',consolas,'Courier New',monospace\"><span style=\"font-weight: bold\"> Non-trainable params: </span><span style=\"color: #00af00; text-decoration-color: #00af00\">0</span> (0.00 B)\n",
       "</pre>\n"
      ],
      "text/plain": [
       "\u001b[1m Non-trainable params: \u001b[0m\u001b[38;5;34m0\u001b[0m (0.00 B)\n"
      ]
     },
     "metadata": {},
     "output_type": "display_data"
    },
    {
     "data": {
      "text/html": [
       "<pre style=\"white-space:pre;overflow-x:auto;line-height:normal;font-family:Menlo,'DejaVu Sans Mono',consolas,'Courier New',monospace\"><span style=\"font-weight: bold\"> Optimizer params: </span><span style=\"color: #00af00; text-decoration-color: #00af00\">2</span> (12.00 B)\n",
       "</pre>\n"
      ],
      "text/plain": [
       "\u001b[1m Optimizer params: \u001b[0m\u001b[38;5;34m2\u001b[0m (12.00 B)\n"
      ]
     },
     "metadata": {},
     "output_type": "display_data"
    }
   ],
   "source": [
    "model=load_model('simple_rnn_imdb.h5')\n",
    "model.summary()"
   ]
  },
  {
   "cell_type": "code",
   "execution_count": null,
   "metadata": {},
   "outputs": [
    {
     "data": {
      "text/plain": [
       "[array([[-1.6411581e+00,  4.6768847e-01, -5.2099699e-01, ...,\n",
       "          5.0694406e-01, -7.0770746e-01, -1.3767986e-01],\n",
       "        [ 4.7107585e-02,  8.0239028e-02, -4.5777142e-02, ...,\n",
       "          4.1862302e-02, -5.4529525e-02,  1.9620337e-02],\n",
       "        [ 2.0234793e-01,  1.6619286e-01, -5.0234236e-02, ...,\n",
       "         -1.8476576e-01, -7.2453017e-03, -5.7075076e-02],\n",
       "        ...,\n",
       "        [-6.6145219e-02,  7.1700863e-03,  8.7726586e-02, ...,\n",
       "         -1.1145132e-01, -2.2126671e-02, -1.0864381e-01],\n",
       "        [-1.7871570e-02,  3.5337415e-03,  4.6453740e-02, ...,\n",
       "         -8.2023960e-04, -6.9262654e-02,  5.2732389e-02],\n",
       "        [-7.3502220e-02, -1.4140312e-02, -6.4777059e-04, ...,\n",
       "          2.5901150e-02,  9.1684116e-03, -1.1793770e-02]], dtype=float32),\n",
       " array([[ 0.05621806, -0.09313759, -0.01058604, ...,  0.03114016,\n",
       "         -0.09278074, -0.15135163],\n",
       "        [-0.04376391, -0.08900852,  0.14224932, ...,  0.07101905,\n",
       "         -0.04220556, -0.1113923 ],\n",
       "        [-0.0730579 , -0.02220833, -0.10751775, ..., -0.08873913,\n",
       "         -0.12819931, -0.10103361],\n",
       "        ...,\n",
       "        [-0.05002557, -0.10861972, -0.06577928, ..., -0.06295852,\n",
       "         -0.10590469, -0.01545719],\n",
       "        [-0.13104606,  0.10412609,  0.06948583, ...,  0.08350487,\n",
       "         -0.11847018, -0.01947653],\n",
       "        [-0.00428614,  0.03908938,  0.18967895, ...,  0.07639296,\n",
       "          0.03184045, -0.0057816 ]], dtype=float32),\n",
       " array([[ 0.02484114, -0.07158464, -0.12221941, ...,  0.03209227,\n",
       "          0.12251496, -0.00170318],\n",
       "        [ 0.05517069,  0.04511916, -0.0368758 , ...,  0.03149888,\n",
       "         -0.00086227,  0.02243703],\n",
       "        [-0.08517399,  0.05623192, -0.01810383, ...,  0.11735006,\n",
       "          0.20177665,  0.13018061],\n",
       "        ...,\n",
       "        [-0.03624154,  0.17029704,  0.01442554, ..., -0.07466105,\n",
       "         -0.14943199, -0.04257756],\n",
       "        [-0.04882611, -0.04781298,  0.0873156 , ...,  0.00214586,\n",
       "         -0.03168922, -0.01246952],\n",
       "        [-0.14578417, -0.03680848, -0.06584111, ...,  0.35652778,\n",
       "          0.15923302,  0.08195183]], dtype=float32),\n",
       " array([-0.0390657 ,  0.05025857, -0.00555099,  0.00809954, -0.02036423,\n",
       "        -0.00357687,  0.01998118,  0.0031039 , -0.00973672,  0.01890657,\n",
       "         0.01031055,  0.03432326, -0.02411941, -0.00614467, -0.01885697,\n",
       "         0.04436053, -0.02874655,  0.00509842, -0.0311985 , -0.01947121,\n",
       "        -0.01380237, -0.03900026, -0.01633846, -0.00530374, -0.0043106 ,\n",
       "        -0.02331323,  0.03981905,  0.0385313 , -0.05172685, -0.00138253,\n",
       "        -0.013497  ,  0.03407032, -0.03084482, -0.02257075,  0.04152952,\n",
       "         0.00193541, -0.01196067,  0.00261524, -0.01960331,  0.00971395,\n",
       "         0.00497681, -0.02206462, -0.01098499,  0.01643101,  0.00768783,\n",
       "         0.05056781, -0.01856218,  0.00026167,  0.00196801, -0.03931766,\n",
       "        -0.02020948, -0.02860576,  0.00488073, -0.01660167,  0.01331194,\n",
       "        -0.02073085, -0.00534988,  0.02209753, -0.0050916 , -0.02756923,\n",
       "         0.02966764, -0.01602563, -0.03635053, -0.00977409,  0.04310757,\n",
       "        -0.00824407, -0.00542988,  0.02816558,  0.02713519, -0.04678468,\n",
       "         0.02128895,  0.01461323, -0.01784825,  0.00758631, -0.02531135,\n",
       "        -0.02842031, -0.00864602, -0.01183449, -0.01375085, -0.02444903,\n",
       "        -0.014255  ,  0.02035078, -0.0281891 , -0.01561759, -0.02401269,\n",
       "         0.04625364,  0.00809146,  0.04034173, -0.02420974,  0.00537733,\n",
       "        -0.03762843, -0.05967224,  0.02961409,  0.00225967,  0.04254713,\n",
       "         0.06002028, -0.03301914, -0.01286918, -0.05103707,  0.0202884 ,\n",
       "        -0.0198317 , -0.00610422, -0.01553336, -0.01011291, -0.0398337 ,\n",
       "         0.00712503, -0.01838686, -0.0008233 , -0.03840395, -0.02831721,\n",
       "        -0.01943082,  0.02069225, -0.00403429,  0.02240148, -0.02410497,\n",
       "        -0.00502778, -0.02509687, -0.01075214, -0.01619158,  0.02850975,\n",
       "         0.05731662, -0.01083275,  0.03890082, -0.01792485, -0.00140225,\n",
       "        -0.02444134, -0.03819539, -0.00330643], dtype=float32),\n",
       " array([[ 1.29116058e-01],\n",
       "        [-9.28946510e-02],\n",
       "        [ 2.18339026e-01],\n",
       "        [ 2.27239192e-01],\n",
       "        [ 2.26555675e-01],\n",
       "        [-1.62908852e-01],\n",
       "        [-1.59654375e-02],\n",
       "        [ 2.38894954e-01],\n",
       "        [-1.70790613e-01],\n",
       "        [ 1.95565417e-01],\n",
       "        [-3.09133045e-02],\n",
       "        [ 4.38456923e-01],\n",
       "        [ 5.12257777e-02],\n",
       "        [ 7.05935061e-02],\n",
       "        [ 1.60576612e-01],\n",
       "        [-1.55417114e-01],\n",
       "        [-4.41136844e-02],\n",
       "        [ 2.78572575e-03],\n",
       "        [ 2.08033457e-01],\n",
       "        [ 1.26502037e-01],\n",
       "        [-1.31602630e-01],\n",
       "        [ 6.80632368e-02],\n",
       "        [-2.86634051e-04],\n",
       "        [ 4.73370105e-02],\n",
       "        [ 1.44138440e-01],\n",
       "        [-7.21898153e-02],\n",
       "        [-3.54384124e-01],\n",
       "        [ 1.23547867e-01],\n",
       "        [ 1.64076880e-01],\n",
       "        [-2.98834503e-01],\n",
       "        [ 1.77092209e-01],\n",
       "        [-9.10675973e-02],\n",
       "        [ 3.31064165e-01],\n",
       "        [ 2.05040947e-01],\n",
       "        [ 1.45379379e-01],\n",
       "        [ 1.62650943e-01],\n",
       "        [-1.92964420e-01],\n",
       "        [-2.80974656e-01],\n",
       "        [-5.67486137e-02],\n",
       "        [ 1.97364151e-01],\n",
       "        [ 2.24059910e-01],\n",
       "        [ 1.21323623e-01],\n",
       "        [ 1.32434383e-01],\n",
       "        [-1.70860693e-01],\n",
       "        [ 5.72768599e-02],\n",
       "        [-9.44966376e-02],\n",
       "        [ 2.04117700e-01],\n",
       "        [-5.68426140e-02],\n",
       "        [-2.63900787e-01],\n",
       "        [ 1.10941023e-01],\n",
       "        [ 1.96394354e-01],\n",
       "        [ 2.10501328e-01],\n",
       "        [ 1.57825649e-01],\n",
       "        [-1.06665969e-01],\n",
       "        [-5.01274616e-02],\n",
       "        [ 1.99605450e-01],\n",
       "        [ 3.08445513e-01],\n",
       "        [-1.80338815e-01],\n",
       "        [ 2.03959048e-01],\n",
       "        [-3.59570538e-03],\n",
       "        [ 7.95703679e-02],\n",
       "        [ 1.32384017e-01],\n",
       "        [ 1.74191222e-01],\n",
       "        [ 9.07396749e-02],\n",
       "        [ 1.85232028e-01],\n",
       "        [ 5.58301993e-02],\n",
       "        [ 8.76157954e-02],\n",
       "        [-2.08068505e-01],\n",
       "        [ 2.44524017e-01],\n",
       "        [ 1.66066870e-01],\n",
       "        [ 1.54683337e-01],\n",
       "        [-7.01279491e-02],\n",
       "        [ 1.91844285e-01],\n",
       "        [ 2.22341195e-01],\n",
       "        [ 1.68128908e-01],\n",
       "        [ 2.22657043e-02],\n",
       "        [-1.58531800e-01],\n",
       "        [ 1.44545406e-01],\n",
       "        [-2.00919837e-01],\n",
       "        [ 3.83329719e-01],\n",
       "        [ 6.68283552e-02],\n",
       "        [ 6.51600957e-02],\n",
       "        [-1.93419438e-02],\n",
       "        [ 1.90737456e-01],\n",
       "        [-3.36536877e-02],\n",
       "        [ 2.35566258e-01],\n",
       "        [-2.28855669e-01],\n",
       "        [ 2.09127575e-01],\n",
       "        [-8.18123072e-02],\n",
       "        [ 1.83866709e-01],\n",
       "        [ 9.25570652e-02],\n",
       "        [ 1.13662466e-01],\n",
       "        [-1.66239768e-01],\n",
       "        [ 7.98971727e-02],\n",
       "        [ 1.65351287e-01],\n",
       "        [-9.79482234e-02],\n",
       "        [-3.03894691e-02],\n",
       "        [ 7.34056681e-02],\n",
       "        [-3.33649106e-02],\n",
       "        [-1.16976827e-01],\n",
       "        [ 3.16299088e-02],\n",
       "        [-4.04015854e-02],\n",
       "        [ 1.99721172e-01],\n",
       "        [-2.05031540e-02],\n",
       "        [-2.49339696e-02],\n",
       "        [ 1.24920726e-01],\n",
       "        [-2.07493544e-01],\n",
       "        [ 1.98362052e-01],\n",
       "        [ 1.12292409e-01],\n",
       "        [ 9.16334838e-02],\n",
       "        [-6.96049258e-02],\n",
       "        [-6.06950782e-02],\n",
       "        [ 8.78129080e-02],\n",
       "        [-1.02121845e-01],\n",
       "        [ 9.76817608e-02],\n",
       "        [-1.80887222e-01],\n",
       "        [ 1.44753948e-01],\n",
       "        [ 1.25255212e-01],\n",
       "        [-1.28355369e-01],\n",
       "        [-1.63515508e-01],\n",
       "        [-2.18025878e-01],\n",
       "        [-2.60391533e-01],\n",
       "        [-1.25507832e-01],\n",
       "        [ 1.35241160e-02],\n",
       "        [-1.37733206e-01],\n",
       "        [ 1.86136395e-01],\n",
       "        [ 6.20606393e-02],\n",
       "        [ 1.24869406e-01]], dtype=float32),\n",
       " array([0.36726066], dtype=float32)]"
      ]
     },
     "execution_count": 29,
     "metadata": {},
     "output_type": "execute_result"
    }
   ],
   "source": [
    "model.get_weights()"
   ]
  },
  {
   "cell_type": "code",
   "execution_count": null,
   "metadata": {},
   "outputs": [],
   "source": [
    "def decode_review(encoded_review):\n",
    "    return ' '.join([reverse_word_index.get(i-3,'?')for i in encoded_review])\n",
    "\n",
    "\n",
    "def preprocess_text(text):\n",
    "    words=text.lower().split()\n",
    "    encoded_review=[word_index.get(word,2)+3 for word in words]\n",
    "    padded_review=sequence.pad_sequences([encoded_review], maxlen=50)\n",
    "    return padded_review "
   ]
  },
  {
   "cell_type": "code",
   "execution_count": null,
   "metadata": {},
   "outputs": [],
   "source": [
    "## prediction function\n",
    "def predict_sentiment(review):\n",
    "    preproces_review=preprocess_text(review)\n",
    "    prediction=model.predict(preproces_review)\n",
    "    sentiment='Positive' if prediction[0][0]>0.5 else 'Negative'\n",
    "    return sentiment, prediction[0][0]"
   ]
  },
  {
   "cell_type": "code",
   "execution_count": null,
   "metadata": {},
   "outputs": [
    {
     "name": "stdout",
     "output_type": "stream",
     "text": [
      "\u001b[1m1/1\u001b[0m \u001b[32m━━━━━━━━━━━━━━━━━━━━\u001b[0m\u001b[37m\u001b[0m \u001b[1m0s\u001b[0m 59ms/step\n",
      "Review: this movie was fantastic! the acting was great and the plot was thrilling.\n",
      "Sentiment: Positive\n",
      "Prediction score: 0.8549903035163879\n"
     ]
    }
   ],
   "source": [
    "#step=4 user Input and prediction\n",
    "\n",
    "example_review=\"this movie was fantastic! the acting was great and the plot was thrilling.\"\n",
    "sentiment, score=predict_sentiment(example_review)\n",
    "print(f'Review: {example_review}')\n",
    "print(f'Sentiment: {sentiment}')\n",
    "print(f'Prediction score: {score}')"
   ]
  },
  {
   "cell_type": "code",
   "execution_count": null,
   "metadata": {},
   "outputs": [
    {
     "name": "stdout",
     "output_type": "stream",
     "text": [
      "\u001b[1m1/1\u001b[0m \u001b[32m━━━━━━━━━━━━━━━━━━━━\u001b[0m\u001b[37m\u001b[0m \u001b[1m0s\u001b[0m 50ms/step\n",
      "Review: this movie was worst! the acting was bad.\n",
      "Sentiment: Positive\n",
      "Prediction score: 0.7822667956352234\n"
     ]
    }
   ],
   "source": [
    "\n",
    "example_review=\"this movie was worst! the acting was bad.\"\n",
    "sentiment, score=predict_sentiment(example_review)\n",
    "print(f'Review: {example_review}')\n",
    "print(f'Sentiment: {sentiment}')\n",
    "print(f'Prediction score: {score}')"
   ]
  },
  {
   "cell_type": "code",
   "execution_count": null,
   "metadata": {},
   "outputs": [
    {
     "name": "stderr",
     "output_type": "stream",
     "text": [
      "d:\\python\\deep learning\\venv\\Lib\\site-packages\\keras\\src\\layers\\core\\embedding.py:90: UserWarning: Argument `input_length` is deprecated. Just remove it.\n",
      "  warnings.warn(\n"
     ]
    },
    {
     "data": {
      "text/html": [
       "<pre style=\"white-space:pre;overflow-x:auto;line-height:normal;font-family:Menlo,'DejaVu Sans Mono',consolas,'Courier New',monospace\"><span style=\"font-weight: bold\">Model: \"sequential\"</span>\n",
       "</pre>\n"
      ],
      "text/plain": [
       "\u001b[1mModel: \"sequential\"\u001b[0m\n"
      ]
     },
     "metadata": {},
     "output_type": "display_data"
    },
    {
     "data": {
      "text/html": [
       "<pre style=\"white-space:pre;overflow-x:auto;line-height:normal;font-family:Menlo,'DejaVu Sans Mono',consolas,'Courier New',monospace\">┏━━━━━━━━━━━━━━━━━━━━━━━━━━━━━━━━━┳━━━━━━━━━━━━━━━━━━━━━━━━┳━━━━━━━━━━━━━━━┓\n",
       "┃<span style=\"font-weight: bold\"> Layer (type)                    </span>┃<span style=\"font-weight: bold\"> Output Shape           </span>┃<span style=\"font-weight: bold\">       Param # </span>┃\n",
       "┡━━━━━━━━━━━━━━━━━━━━━━━━━━━━━━━━━╇━━━━━━━━━━━━━━━━━━━━━━━━╇━━━━━━━━━━━━━━━┩\n",
       "│ embedding (<span style=\"color: #0087ff; text-decoration-color: #0087ff\">Embedding</span>)           │ ?                      │   <span style=\"color: #00af00; text-decoration-color: #00af00\">0</span> (unbuilt) │\n",
       "├─────────────────────────────────┼────────────────────────┼───────────────┤\n",
       "│ simple_rnn (<span style=\"color: #0087ff; text-decoration-color: #0087ff\">SimpleRNN</span>)          │ ?                      │   <span style=\"color: #00af00; text-decoration-color: #00af00\">0</span> (unbuilt) │\n",
       "├─────────────────────────────────┼────────────────────────┼───────────────┤\n",
       "│ dense (<span style=\"color: #0087ff; text-decoration-color: #0087ff\">Dense</span>)                   │ ?                      │   <span style=\"color: #00af00; text-decoration-color: #00af00\">0</span> (unbuilt) │\n",
       "└─────────────────────────────────┴────────────────────────┴───────────────┘\n",
       "</pre>\n"
      ],
      "text/plain": [
       "┏━━━━━━━━━━━━━━━━━━━━━━━━━━━━━━━━━┳━━━━━━━━━━━━━━━━━━━━━━━━┳━━━━━━━━━━━━━━━┓\n",
       "┃\u001b[1m \u001b[0m\u001b[1mLayer (type)                   \u001b[0m\u001b[1m \u001b[0m┃\u001b[1m \u001b[0m\u001b[1mOutput Shape          \u001b[0m\u001b[1m \u001b[0m┃\u001b[1m \u001b[0m\u001b[1m      Param #\u001b[0m\u001b[1m \u001b[0m┃\n",
       "┡━━━━━━━━━━━━━━━━━━━━━━━━━━━━━━━━━╇━━━━━━━━━━━━━━━━━━━━━━━━╇━━━━━━━━━━━━━━━┩\n",
       "│ embedding (\u001b[38;5;33mEmbedding\u001b[0m)           │ ?                      │   \u001b[38;5;34m0\u001b[0m (unbuilt) │\n",
       "├─────────────────────────────────┼────────────────────────┼───────────────┤\n",
       "│ simple_rnn (\u001b[38;5;33mSimpleRNN\u001b[0m)          │ ?                      │   \u001b[38;5;34m0\u001b[0m (unbuilt) │\n",
       "├─────────────────────────────────┼────────────────────────┼───────────────┤\n",
       "│ dense (\u001b[38;5;33mDense\u001b[0m)                   │ ?                      │   \u001b[38;5;34m0\u001b[0m (unbuilt) │\n",
       "└─────────────────────────────────┴────────────────────────┴───────────────┘\n"
      ]
     },
     "metadata": {},
     "output_type": "display_data"
    },
    {
     "data": {
      "text/html": [
       "<pre style=\"white-space:pre;overflow-x:auto;line-height:normal;font-family:Menlo,'DejaVu Sans Mono',consolas,'Courier New',monospace\"><span style=\"font-weight: bold\"> Total params: </span><span style=\"color: #00af00; text-decoration-color: #00af00\">0</span> (0.00 B)\n",
       "</pre>\n"
      ],
      "text/plain": [
       "\u001b[1m Total params: \u001b[0m\u001b[38;5;34m0\u001b[0m (0.00 B)\n"
      ]
     },
     "metadata": {},
     "output_type": "display_data"
    },
    {
     "data": {
      "text/html": [
       "<pre style=\"white-space:pre;overflow-x:auto;line-height:normal;font-family:Menlo,'DejaVu Sans Mono',consolas,'Courier New',monospace\"><span style=\"font-weight: bold\"> Trainable params: </span><span style=\"color: #00af00; text-decoration-color: #00af00\">0</span> (0.00 B)\n",
       "</pre>\n"
      ],
      "text/plain": [
       "\u001b[1m Trainable params: \u001b[0m\u001b[38;5;34m0\u001b[0m (0.00 B)\n"
      ]
     },
     "metadata": {},
     "output_type": "display_data"
    },
    {
     "data": {
      "text/html": [
       "<pre style=\"white-space:pre;overflow-x:auto;line-height:normal;font-family:Menlo,'DejaVu Sans Mono',consolas,'Courier New',monospace\"><span style=\"font-weight: bold\"> Non-trainable params: </span><span style=\"color: #00af00; text-decoration-color: #00af00\">0</span> (0.00 B)\n",
       "</pre>\n"
      ],
      "text/plain": [
       "\u001b[1m Non-trainable params: \u001b[0m\u001b[38;5;34m0\u001b[0m (0.00 B)\n"
      ]
     },
     "metadata": {},
     "output_type": "display_data"
    },
    {
     "name": "stdout",
     "output_type": "stream",
     "text": [
      "Epoch 1/5\n",
      "\u001b[1m391/391\u001b[0m \u001b[32m━━━━━━━━━━━━━━━━━━━━\u001b[0m\u001b[37m\u001b[0m \u001b[1m13s\u001b[0m 26ms/step - accuracy: 0.5994 - loss: 0.6518 - val_accuracy: 0.8022 - val_loss: 0.4486\n",
      "Epoch 2/5\n",
      "\u001b[1m391/391\u001b[0m \u001b[32m━━━━━━━━━━━━━━━━━━━━\u001b[0m\u001b[37m\u001b[0m \u001b[1m9s\u001b[0m 24ms/step - accuracy: 0.8198 - loss: 0.4202 - val_accuracy: 0.8114 - val_loss: 0.4356\n",
      "Epoch 3/5\n",
      "\u001b[1m391/391\u001b[0m \u001b[32m━━━━━━━━━━━━━━━━━━━━\u001b[0m\u001b[37m\u001b[0m \u001b[1m11s\u001b[0m 24ms/step - accuracy: 0.8559 - loss: 0.3575 - val_accuracy: 0.8394 - val_loss: 0.3818\n",
      "Epoch 4/5\n",
      "\u001b[1m391/391\u001b[0m \u001b[32m━━━━━━━━━━━━━━━━━━━━\u001b[0m\u001b[37m\u001b[0m \u001b[1m10s\u001b[0m 24ms/step - accuracy: 0.8988 - loss: 0.2672 - val_accuracy: 0.8282 - val_loss: 0.4238\n",
      "Epoch 5/5\n",
      "\u001b[1m391/391\u001b[0m \u001b[32m━━━━━━━━━━━━━━━━━━━━\u001b[0m\u001b[37m\u001b[0m \u001b[1m9s\u001b[0m 24ms/step - accuracy: 0.9190 - loss: 0.2268 - val_accuracy: 0.8172 - val_loss: 0.4586\n",
      "\u001b[1m782/782\u001b[0m \u001b[32m━━━━━━━━━━━━━━━━━━━━\u001b[0m\u001b[37m\u001b[0m \u001b[1m5s\u001b[0m 6ms/step - accuracy: 0.8157 - loss: 0.4632\n",
      "Test Accuracy: 0.8171600103378296\n",
      "\u001b[1m1/1\u001b[0m \u001b[32m━━━━━━━━━━━━━━━━━━━━\u001b[0m\u001b[37m\u001b[0m \u001b[1m0s\u001b[0m 277ms/step\n",
      "Review: This movie was the worst! The acting was disgusting.\n",
      "Sentiment: Positive\n",
      "Prediction score: 0.9412443041801453\n"
     ]
    }
   ],
   "source": [
    "import tensorflow as tf\n",
    "from tensorflow.keras.datasets import imdb\n",
    "from tensorflow.keras.preprocessing.sequence import pad_sequences\n",
    "from tensorflow.keras.models import Sequential\n",
    "from tensorflow.keras.layers import Embedding, SimpleRNN, Dense\n",
    "\n",
    "# Parameters\n",
    "voc_size = 10000   # Vocabulary size\n",
    "max_len = 100      # Maximum length of a review\n",
    "embedding_dim = 32 # Embedding dimension\n",
    "\n",
    "# Load IMDb Dataset\n",
    "(X_train, y_train), (X_test, y_test) = imdb.load_data(num_words=voc_size)\n",
    "\n",
    "# Pad Sequences\n",
    "X_train = pad_sequences(X_train, maxlen=max_len, padding='post')\n",
    "X_test = pad_sequences(X_test, maxlen=max_len, padding='post')\n",
    "\n",
    "# Model Architecture\n",
    "model = Sequential()\n",
    "model.add(Embedding(input_dim=voc_size, output_dim=embedding_dim, input_length=max_len))\n",
    "model.add(SimpleRNN(64, activation='tanh', return_sequences=False))\n",
    "model.add(Dense(1, activation='sigmoid'))\n",
    "\n",
    "model.compile(optimizer='adam', loss='binary_crossentropy', metrics=['accuracy'])\n",
    "model.summary()\n",
    "\n",
    "# Training\n",
    "history = model.fit(X_train, y_train, epochs=5, batch_size=64, validation_data=(X_test, y_test))\n",
    "\n",
    "# Evaluation\n",
    "test_loss, test_acc = model.evaluate(X_test, y_test)\n",
    "print(f'Test Accuracy: {test_acc}')\n",
    "\n",
    "# Prediction Function\n",
    "word_index = imdb.get_word_index()\n",
    "reverse_word_index = {value: key for (key, value) in word_index.items()}\n",
    "\n",
    "def decode_review(encoded_review):\n",
    "    return ' '.join([reverse_word_index.get(i - 3, '?') for i in encoded_review])\n",
    "\n",
    "def preprocess_review(review):\n",
    "    review = review.lower()\n",
    "    words = review.split()\n",
    "    encoded_review = [word_index.get(word, 2) for word in words]  # 2 is for unknown words\n",
    "    padded_review = pad_sequences([encoded_review], maxlen=max_len, padding='post')\n",
    "    return padded_review\n",
    "\n",
    "def predict_sentiment(review):\n",
    "    processed_review = preprocess_review(review)\n",
    "    score = model.predict(processed_review)[0][0]\n",
    "    sentiment = 'Positive' if score > 0.5 else 'Negative'\n",
    "    return sentiment, score\n",
    "\n",
    "# Example Prediction\n",
    "example_review = \"This movie was the worst! The acting was disgusting.\"\n",
    "sentiment, score = predict_sentiment(example_review)\n",
    "print(f'Review: {example_review}')\n",
    "print(f'Sentiment: {sentiment}')\n",
    "print(f'Prediction score: {score}')\n"
   ]
  },
  {
   "cell_type": "code",
   "execution_count": null,
   "metadata": {},
   "outputs": [
    {
     "name": "stdout",
     "output_type": "stream",
     "text": [
      "Positive reviews: 12500\n",
      "Negative reviews: 12500\n"
     ]
    }
   ],
   "source": [
    "import numpy as np\n",
    "\n",
    "print(f'Positive reviews: {np.sum(y_train)}')\n",
    "print(f'Negative reviews: {len(y_train) - np.sum(y_train)}')\n"
   ]
  },
  {
   "cell_type": "code",
   "execution_count": null,
   "metadata": {},
   "outputs": [
    {
     "name": "stdout",
     "output_type": "stream",
     "text": [
      "\u001b[1m782/782\u001b[0m \u001b[32m━━━━━━━━━━━━━━━━━━━━\u001b[0m\u001b[37m\u001b[0m \u001b[1m4s\u001b[0m 5ms/step - accuracy: 0.8157 - loss: 0.4632\n",
      "Test Accuracy: 0.8171600103378296\n",
      "Test Loss: 0.4585970640182495\n"
     ]
    }
   ],
   "source": [
    "loss, accuracy = model.evaluate(X_test, y_test)\n",
    "print(f'Test Accuracy: {accuracy}')\n",
    "print(f'Test Loss: {loss}')\n"
   ]
  },
  {
   "cell_type": "code",
   "execution_count": null,
   "metadata": {},
   "outputs": [
    {
     "name": "stdout",
     "output_type": "stream",
     "text": [
      "\u001b[1m782/782\u001b[0m \u001b[32m━━━━━━━━━━━━━━━━━━━━\u001b[0m\u001b[37m\u001b[0m \u001b[1m4s\u001b[0m 5ms/step\n",
      "[[10053  2447]\n",
      " [ 2124 10376]]\n",
      "              precision    recall  f1-score   support\n",
      "\n",
      "           0       0.83      0.80      0.81     12500\n",
      "           1       0.81      0.83      0.82     12500\n",
      "\n",
      "    accuracy                           0.82     25000\n",
      "   macro avg       0.82      0.82      0.82     25000\n",
      "weighted avg       0.82      0.82      0.82     25000\n",
      "\n"
     ]
    }
   ],
   "source": [
    "from sklearn.metrics import confusion_matrix, classification_report\n",
    "\n",
    "y_pred = model.predict(X_test)\n",
    "y_pred_classes = (y_pred > 0.5).astype(\"int32\")\n",
    "conf_matrix = confusion_matrix(y_test, y_pred_classes)\n",
    "print(conf_matrix)\n",
    "print(classification_report(y_test, y_pred_classes))\n"
   ]
  },
  {
   "cell_type": "code",
   "execution_count": null,
   "metadata": {},
   "outputs": [],
   "source": []
  }
 ],
 "metadata": {
  "kernelspec": {
   "display_name": "venv",
   "language": "python",
   "name": "python3"
  },
  "language_info": {
   "codemirror_mode": {
    "name": "ipython",
    "version": 3
   },
   "file_extension": ".py",
   "mimetype": "text/x-python",
   "name": "python",
   "nbconvert_exporter": "python",
   "pygments_lexer": "ipython3",
   "version": "3.12.4"
  }
 },
 "nbformat": 4,
 "nbformat_minor": 2
}
