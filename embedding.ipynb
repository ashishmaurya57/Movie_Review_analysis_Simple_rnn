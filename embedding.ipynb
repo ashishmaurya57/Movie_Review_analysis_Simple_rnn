{
 "cells": [
  {
   "cell_type": "code",
   "execution_count": 1,
   "metadata": {},
   "outputs": [],
   "source": [
    "import pandas as pd\n",
    "from tensorflow.keras.preprocessing.text import one_hot"
   ]
  },
  {
   "cell_type": "code",
   "execution_count": 2,
   "metadata": {},
   "outputs": [],
   "source": [
    "## sentence=\n",
    "sent=[\n",
    "    'the glass of milk',\n",
    "    'the glass of juice',\n",
    "    'the cup of tea',\n",
    "    'I am a good boy',\n",
    "    'I am a good developer',\n",
    "    'understant the meaning of words',\n",
    "    'your videos are good',\n",
    "\n",
    "]"
   ]
  },
  {
   "cell_type": "code",
   "execution_count": 3,
   "metadata": {},
   "outputs": [
    {
     "data": {
      "text/plain": [
       "['the glass of milk',\n",
       " 'the glass of juice',\n",
       " 'the cup of tea',\n",
       " 'I am a good boy',\n",
       " 'I am a good developer',\n",
       " 'understant the meaning of words',\n",
       " 'your videos are good']"
      ]
     },
     "execution_count": 3,
     "metadata": {},
     "output_type": "execute_result"
    }
   ],
   "source": [
    "sent"
   ]
  },
  {
   "cell_type": "code",
   "execution_count": 4,
   "metadata": {},
   "outputs": [],
   "source": [
    "## we neeed to define the vocabuloury size\n",
    "voc_size=10000"
   ]
  },
  {
   "cell_type": "code",
   "execution_count": 5,
   "metadata": {},
   "outputs": [],
   "source": [
    "## one_hot representation of every word\n",
    "one_hot_rpr=[one_hot(words, voc_size)for words in sent]"
   ]
  },
  {
   "cell_type": "code",
   "execution_count": 6,
   "metadata": {},
   "outputs": [
    {
     "data": {
      "text/plain": [
       "[[2287, 5327, 1485, 1642],\n",
       " [2287, 5327, 1485, 5686],\n",
       " [2287, 7755, 1485, 8192],\n",
       " [2473, 6259, 2048, 7839, 3160],\n",
       " [2473, 6259, 2048, 7839, 626],\n",
       " [1180, 2287, 8198, 1485, 2342],\n",
       " [5740, 4506, 8544, 7839]]"
      ]
     },
     "execution_count": 6,
     "metadata": {},
     "output_type": "execute_result"
    }
   ],
   "source": [
    "one_hot_rpr"
   ]
  },
  {
   "cell_type": "code",
   "execution_count": 7,
   "metadata": {},
   "outputs": [],
   "source": [
    "# one_hot_rpr = []\n",
    "# for words in sent:\n",
    "#     encoded_words = one_hot(words, voc_size)\n",
    "#     one_hot_rpr.append(encoded_words)\n",
    "\n",
    "# one_hot_rpr"
   ]
  },
  {
   "cell_type": "code",
   "execution_count": null,
   "metadata": {},
   "outputs": [
    {
     "data": {
      "text/plain": [
       "8"
      ]
     },
     "execution_count": 47,
     "metadata": {},
     "output_type": "execute_result"
    }
   ],
   "source": [
    "import tensorflow as tf\n",
    "# print(tf.__version__)\n"
   ]
  },
  {
   "cell_type": "code",
   "execution_count": 9,
   "metadata": {},
   "outputs": [],
   "source": [
    "## word embeddingb representation\n",
    "\n",
    "from tensorflow.keras.layers import Embedding\n",
    "# from tensorflow.keras.preprocessing.sequence import pad_sequences\n",
    "from tensorflow.keras.utils import pad_sequences\n",
    "from tensorflow.keras.models import Sequential"
   ]
  },
  {
   "cell_type": "code",
   "execution_count": 10,
   "metadata": {},
   "outputs": [],
   "source": [
    "import numpy as np\n"
   ]
  },
  {
   "cell_type": "code",
   "execution_count": 66,
   "metadata": {},
   "outputs": [
    {
     "name": "stdout",
     "output_type": "stream",
     "text": [
      "[[   0    0    0    0 2287 5327 1485 1642]\n",
      " [   0    0    0    0 2287 5327 1485 5686]\n",
      " [   0    0    0    0 2287 7755 1485 8192]\n",
      " [   0    0    0 2473 6259 2048 7839 3160]\n",
      " [   0    0    0 2473 6259 2048 7839  626]\n",
      " [   0    0    0 1180 2287 8198 1485 2342]\n",
      " [   0    0    0    0 5740 4506 8544 7839]]\n"
     ]
    }
   ],
   "source": [
    "sent_length=8\n",
    "one_hot_rpr = [one_hot(words, voc_size) for words in sent]\n",
    "embedded_docs = pad_sequences(one_hot_rpr, padding='pre', maxlen=sent_length)\n",
    "print(embedded_docs)\n"
   ]
  },
  {
   "cell_type": "code",
   "execution_count": 42,
   "metadata": {},
   "outputs": [],
   "source": [
    "## festure reprenstation\n",
    "dim=10"
   ]
  },
  {
   "cell_type": "code",
   "execution_count": 67,
   "metadata": {},
   "outputs": [
    {
     "data": {
      "text/plain": [
       "(10, 10000, 8)"
      ]
     },
     "execution_count": 67,
     "metadata": {},
     "output_type": "execute_result"
    }
   ],
   "source": [
    "dim, voc_size, sent_length"
   ]
  },
  {
   "cell_type": "code",
   "execution_count": 68,
   "metadata": {},
   "outputs": [
    {
     "name": "stderr",
     "output_type": "stream",
     "text": [
      "d:\\python\\deep learning\\venv\\Lib\\site-packages\\keras\\src\\layers\\core\\embedding.py:90: UserWarning: Argument `input_length` is deprecated. Just remove it.\n",
      "  warnings.warn(\n"
     ]
    }
   ],
   "source": [
    "model = Sequential()\n",
    "model.add(Embedding(input_dim=voc_size, output_dim=dim, input_length=sent_length))\n",
    "model.compile(optimizer='adam', loss='mse')\n",
    " # This forces the model to build\n"
   ]
  },
  {
   "cell_type": "code",
   "execution_count": 69,
   "metadata": {},
   "outputs": [
    {
     "data": {
      "text/html": [
       "<pre style=\"white-space:pre;overflow-x:auto;line-height:normal;font-family:Menlo,'DejaVu Sans Mono',consolas,'Courier New',monospace\"><span style=\"font-weight: bold\">Model: \"sequential_26\"</span>\n",
       "</pre>\n"
      ],
      "text/plain": [
       "\u001b[1mModel: \"sequential_26\"\u001b[0m\n"
      ]
     },
     "metadata": {},
     "output_type": "display_data"
    },
    {
     "data": {
      "text/html": [
       "<pre style=\"white-space:pre;overflow-x:auto;line-height:normal;font-family:Menlo,'DejaVu Sans Mono',consolas,'Courier New',monospace\">┏━━━━━━━━━━━━━━━━━━━━━━━━━━━━━━━━━┳━━━━━━━━━━━━━━━━━━━━━━━━┳━━━━━━━━━━━━━━━┓\n",
       "┃<span style=\"font-weight: bold\"> Layer (type)                    </span>┃<span style=\"font-weight: bold\"> Output Shape           </span>┃<span style=\"font-weight: bold\">       Param # </span>┃\n",
       "┡━━━━━━━━━━━━━━━━━━━━━━━━━━━━━━━━━╇━━━━━━━━━━━━━━━━━━━━━━━━╇━━━━━━━━━━━━━━━┩\n",
       "│ embedding_30 (<span style=\"color: #0087ff; text-decoration-color: #0087ff\">Embedding</span>)        │ ?                      │   <span style=\"color: #00af00; text-decoration-color: #00af00\">0</span> (unbuilt) │\n",
       "└─────────────────────────────────┴────────────────────────┴───────────────┘\n",
       "</pre>\n"
      ],
      "text/plain": [
       "┏━━━━━━━━━━━━━━━━━━━━━━━━━━━━━━━━━┳━━━━━━━━━━━━━━━━━━━━━━━━┳━━━━━━━━━━━━━━━┓\n",
       "┃\u001b[1m \u001b[0m\u001b[1mLayer (type)                   \u001b[0m\u001b[1m \u001b[0m┃\u001b[1m \u001b[0m\u001b[1mOutput Shape          \u001b[0m\u001b[1m \u001b[0m┃\u001b[1m \u001b[0m\u001b[1m      Param #\u001b[0m\u001b[1m \u001b[0m┃\n",
       "┡━━━━━━━━━━━━━━━━━━━━━━━━━━━━━━━━━╇━━━━━━━━━━━━━━━━━━━━━━━━╇━━━━━━━━━━━━━━━┩\n",
       "│ embedding_30 (\u001b[38;5;33mEmbedding\u001b[0m)        │ ?                      │   \u001b[38;5;34m0\u001b[0m (unbuilt) │\n",
       "└─────────────────────────────────┴────────────────────────┴───────────────┘\n"
      ]
     },
     "metadata": {},
     "output_type": "display_data"
    },
    {
     "data": {
      "text/html": [
       "<pre style=\"white-space:pre;overflow-x:auto;line-height:normal;font-family:Menlo,'DejaVu Sans Mono',consolas,'Courier New',monospace\"><span style=\"font-weight: bold\"> Total params: </span><span style=\"color: #00af00; text-decoration-color: #00af00\">0</span> (0.00 B)\n",
       "</pre>\n"
      ],
      "text/plain": [
       "\u001b[1m Total params: \u001b[0m\u001b[38;5;34m0\u001b[0m (0.00 B)\n"
      ]
     },
     "metadata": {},
     "output_type": "display_data"
    },
    {
     "data": {
      "text/html": [
       "<pre style=\"white-space:pre;overflow-x:auto;line-height:normal;font-family:Menlo,'DejaVu Sans Mono',consolas,'Courier New',monospace\"><span style=\"font-weight: bold\"> Trainable params: </span><span style=\"color: #00af00; text-decoration-color: #00af00\">0</span> (0.00 B)\n",
       "</pre>\n"
      ],
      "text/plain": [
       "\u001b[1m Trainable params: \u001b[0m\u001b[38;5;34m0\u001b[0m (0.00 B)\n"
      ]
     },
     "metadata": {},
     "output_type": "display_data"
    },
    {
     "data": {
      "text/html": [
       "<pre style=\"white-space:pre;overflow-x:auto;line-height:normal;font-family:Menlo,'DejaVu Sans Mono',consolas,'Courier New',monospace\"><span style=\"font-weight: bold\"> Non-trainable params: </span><span style=\"color: #00af00; text-decoration-color: #00af00\">0</span> (0.00 B)\n",
       "</pre>\n"
      ],
      "text/plain": [
       "\u001b[1m Non-trainable params: \u001b[0m\u001b[38;5;34m0\u001b[0m (0.00 B)\n"
      ]
     },
     "metadata": {},
     "output_type": "display_data"
    }
   ],
   "source": [
    "model.summary()"
   ]
  },
  {
   "cell_type": "code",
   "execution_count": 86,
   "metadata": {},
   "outputs": [
    {
     "name": "stdout",
     "output_type": "stream",
     "text": [
      "\u001b[1m1/1\u001b[0m \u001b[32m━━━━━━━━━━━━━━━━━━━━\u001b[0m\u001b[37m\u001b[0m \u001b[1m0s\u001b[0m 73ms/step\n"
     ]
    },
    {
     "data": {
      "text/html": [
       "<pre style=\"white-space:pre;overflow-x:auto;line-height:normal;font-family:Menlo,'DejaVu Sans Mono',consolas,'Courier New',monospace\"><span style=\"font-weight: bold\">Model: \"sequential_34\"</span>\n",
       "</pre>\n"
      ],
      "text/plain": [
       "\u001b[1mModel: \"sequential_34\"\u001b[0m\n"
      ]
     },
     "metadata": {},
     "output_type": "display_data"
    },
    {
     "data": {
      "text/html": [
       "<pre style=\"white-space:pre;overflow-x:auto;line-height:normal;font-family:Menlo,'DejaVu Sans Mono',consolas,'Courier New',monospace\">┏━━━━━━━━━━━━━━━━━━━━━━━━━━━━━━━━━┳━━━━━━━━━━━━━━━━━━━━━━━━┳━━━━━━━━━━━━━━━┓\n",
       "┃<span style=\"font-weight: bold\"> Layer (type)                    </span>┃<span style=\"font-weight: bold\"> Output Shape           </span>┃<span style=\"font-weight: bold\">       Param # </span>┃\n",
       "┡━━━━━━━━━━━━━━━━━━━━━━━━━━━━━━━━━╇━━━━━━━━━━━━━━━━━━━━━━━━╇━━━━━━━━━━━━━━━┩\n",
       "│ embedding_38 (<span style=\"color: #0087ff; text-decoration-color: #0087ff\">Embedding</span>)        │ (<span style=\"color: #00af00; text-decoration-color: #00af00\">7</span>, <span style=\"color: #00af00; text-decoration-color: #00af00\">8</span>, <span style=\"color: #00af00; text-decoration-color: #00af00\">10</span>)             │       <span style=\"color: #00af00; text-decoration-color: #00af00\">100,000</span> │\n",
       "└─────────────────────────────────┴────────────────────────┴───────────────┘\n",
       "</pre>\n"
      ],
      "text/plain": [
       "┏━━━━━━━━━━━━━━━━━━━━━━━━━━━━━━━━━┳━━━━━━━━━━━━━━━━━━━━━━━━┳━━━━━━━━━━━━━━━┓\n",
       "┃\u001b[1m \u001b[0m\u001b[1mLayer (type)                   \u001b[0m\u001b[1m \u001b[0m┃\u001b[1m \u001b[0m\u001b[1mOutput Shape          \u001b[0m\u001b[1m \u001b[0m┃\u001b[1m \u001b[0m\u001b[1m      Param #\u001b[0m\u001b[1m \u001b[0m┃\n",
       "┡━━━━━━━━━━━━━━━━━━━━━━━━━━━━━━━━━╇━━━━━━━━━━━━━━━━━━━━━━━━╇━━━━━━━━━━━━━━━┩\n",
       "│ embedding_38 (\u001b[38;5;33mEmbedding\u001b[0m)        │ (\u001b[38;5;34m7\u001b[0m, \u001b[38;5;34m8\u001b[0m, \u001b[38;5;34m10\u001b[0m)             │       \u001b[38;5;34m100,000\u001b[0m │\n",
       "└─────────────────────────────────┴────────────────────────┴───────────────┘\n"
      ]
     },
     "metadata": {},
     "output_type": "display_data"
    },
    {
     "data": {
      "text/html": [
       "<pre style=\"white-space:pre;overflow-x:auto;line-height:normal;font-family:Menlo,'DejaVu Sans Mono',consolas,'Courier New',monospace\"><span style=\"font-weight: bold\"> Total params: </span><span style=\"color: #00af00; text-decoration-color: #00af00\">100,000</span> (390.62 KB)\n",
       "</pre>\n"
      ],
      "text/plain": [
       "\u001b[1m Total params: \u001b[0m\u001b[38;5;34m100,000\u001b[0m (390.62 KB)\n"
      ]
     },
     "metadata": {},
     "output_type": "display_data"
    },
    {
     "data": {
      "text/html": [
       "<pre style=\"white-space:pre;overflow-x:auto;line-height:normal;font-family:Menlo,'DejaVu Sans Mono',consolas,'Courier New',monospace\"><span style=\"font-weight: bold\"> Trainable params: </span><span style=\"color: #00af00; text-decoration-color: #00af00\">100,000</span> (390.62 KB)\n",
       "</pre>\n"
      ],
      "text/plain": [
       "\u001b[1m Trainable params: \u001b[0m\u001b[38;5;34m100,000\u001b[0m (390.62 KB)\n"
      ]
     },
     "metadata": {},
     "output_type": "display_data"
    },
    {
     "data": {
      "text/html": [
       "<pre style=\"white-space:pre;overflow-x:auto;line-height:normal;font-family:Menlo,'DejaVu Sans Mono',consolas,'Courier New',monospace\"><span style=\"font-weight: bold\"> Non-trainable params: </span><span style=\"color: #00af00; text-decoration-color: #00af00\">0</span> (0.00 B)\n",
       "</pre>\n"
      ],
      "text/plain": [
       "\u001b[1m Non-trainable params: \u001b[0m\u001b[38;5;34m0\u001b[0m (0.00 B)\n"
      ]
     },
     "metadata": {},
     "output_type": "display_data"
    }
   ],
   "source": [
    "import tensorflow as tf\n",
    "from tensorflow.keras.preprocessing.sequence import pad_sequences\n",
    "from tensorflow.keras.preprocessing.text import one_hot\n",
    "from tensorflow.keras.models import Sequential\n",
    "from tensorflow.keras.layers import Embedding\n",
    "\n",
    "# Example Parameters\n",
    "voc_size = 10000  # Vocabulary size\n",
    "dim = 10         # Embedding dimensions\n",
    "sent_length = 8  # Maximum sentence length\n",
    "\n",
    "# Sample input data\n",
    "\n",
    "one_hot_rpr = [one_hot(words, voc_size) for words in sent]\n",
    "embedded_docs = pad_sequences(one_hot_rpr, padding='pre', maxlen=sent_length)\n",
    "\n",
    "# Model Definition\n",
    "model = Sequential()\n",
    "model.add(Embedding(input_dim=voc_size, output_dim=dim, input_length=sent_length))\n",
    "model.compile(optimizer='adam', loss='mse')\n",
    "\n",
    "\n",
    "# Make prediction\n",
    "predictions = model.predict(embedded_docs)\n",
    "model.summary()\n"
   ]
  },
  {
   "cell_type": "code",
   "execution_count": 87,
   "metadata": {},
   "outputs": [
    {
     "name": "stdout",
     "output_type": "stream",
     "text": [
      "\u001b[1m1/1\u001b[0m \u001b[32m━━━━━━━━━━━━━━━━━━━━\u001b[0m\u001b[37m\u001b[0m \u001b[1m0s\u001b[0m 31ms/step\n",
      "[[[-0.04479643  0.02844019  0.01287934 -0.02897902  0.00014589\n",
      "   -0.02028159  0.01527867 -0.01179198  0.03819628  0.04524389]\n",
      "  [-0.04479643  0.02844019  0.01287934 -0.02897902  0.00014589\n",
      "   -0.02028159  0.01527867 -0.01179198  0.03819628  0.04524389]\n",
      "  [-0.04479643  0.02844019  0.01287934 -0.02897902  0.00014589\n",
      "   -0.02028159  0.01527867 -0.01179198  0.03819628  0.04524389]\n",
      "  [-0.04479643  0.02844019  0.01287934 -0.02897902  0.00014589\n",
      "   -0.02028159  0.01527867 -0.01179198  0.03819628  0.04524389]\n",
      "  [-0.00658915  0.04582271 -0.02644706 -0.01048678  0.03637138\n",
      "   -0.03989167  0.04005451  0.00087429  0.0447976  -0.00585743]\n",
      "  [ 0.00036192  0.01612816 -0.00611817 -0.02337911 -0.02481499\n",
      "    0.03958592 -0.04729197 -0.0399524   0.03414967 -0.04837588]\n",
      "  [ 0.01534684  0.00980027 -0.00316089 -0.03258036  0.02572112\n",
      "    0.00107576 -0.02151345 -0.00464147 -0.0267361  -0.00737701]\n",
      "  [-0.01299536 -0.00529871  0.01510835 -0.03102299  0.03051754\n",
      "    0.03635845 -0.02123047  0.04708228  0.00042553 -0.00332801]]\n",
      "\n",
      " [[-0.04479643  0.02844019  0.01287934 -0.02897902  0.00014589\n",
      "   -0.02028159  0.01527867 -0.01179198  0.03819628  0.04524389]\n",
      "  [-0.04479643  0.02844019  0.01287934 -0.02897902  0.00014589\n",
      "   -0.02028159  0.01527867 -0.01179198  0.03819628  0.04524389]\n",
      "  [-0.04479643  0.02844019  0.01287934 -0.02897902  0.00014589\n",
      "   -0.02028159  0.01527867 -0.01179198  0.03819628  0.04524389]\n",
      "  [-0.04479643  0.02844019  0.01287934 -0.02897902  0.00014589\n",
      "   -0.02028159  0.01527867 -0.01179198  0.03819628  0.04524389]\n",
      "  [-0.00658915  0.04582271 -0.02644706 -0.01048678  0.03637138\n",
      "   -0.03989167  0.04005451  0.00087429  0.0447976  -0.00585743]\n",
      "  [ 0.00036192  0.01612816 -0.00611817 -0.02337911 -0.02481499\n",
      "    0.03958592 -0.04729197 -0.0399524   0.03414967 -0.04837588]\n",
      "  [ 0.01534684  0.00980027 -0.00316089 -0.03258036  0.02572112\n",
      "    0.00107576 -0.02151345 -0.00464147 -0.0267361  -0.00737701]\n",
      "  [-0.03645904 -0.00183135 -0.00576514 -0.02608365  0.04813108\n",
      "    0.0224523   0.02501491  0.04132963 -0.04463804 -0.01093885]]\n",
      "\n",
      " [[-0.04479643  0.02844019  0.01287934 -0.02897902  0.00014589\n",
      "   -0.02028159  0.01527867 -0.01179198  0.03819628  0.04524389]\n",
      "  [-0.04479643  0.02844019  0.01287934 -0.02897902  0.00014589\n",
      "   -0.02028159  0.01527867 -0.01179198  0.03819628  0.04524389]\n",
      "  [-0.04479643  0.02844019  0.01287934 -0.02897902  0.00014589\n",
      "   -0.02028159  0.01527867 -0.01179198  0.03819628  0.04524389]\n",
      "  [-0.04479643  0.02844019  0.01287934 -0.02897902  0.00014589\n",
      "   -0.02028159  0.01527867 -0.01179198  0.03819628  0.04524389]\n",
      "  [-0.00658915  0.04582271 -0.02644706 -0.01048678  0.03637138\n",
      "   -0.03989167  0.04005451  0.00087429  0.0447976  -0.00585743]\n",
      "  [-0.01600999  0.04922993  0.04271117 -0.03444933  0.01021488\n",
      "   -0.00115351 -0.03737507  0.04632739  0.00243071  0.01939953]\n",
      "  [ 0.01534684  0.00980027 -0.00316089 -0.03258036  0.02572112\n",
      "    0.00107576 -0.02151345 -0.00464147 -0.0267361  -0.00737701]\n",
      "  [ 0.0120471   0.01811815 -0.03868103  0.03044272 -0.02340811\n",
      "   -0.01623341  0.01002927 -0.00887533  0.00591003  0.02854445]]\n",
      "\n",
      " [[-0.04479643  0.02844019  0.01287934 -0.02897902  0.00014589\n",
      "   -0.02028159  0.01527867 -0.01179198  0.03819628  0.04524389]\n",
      "  [-0.04479643  0.02844019  0.01287934 -0.02897902  0.00014589\n",
      "   -0.02028159  0.01527867 -0.01179198  0.03819628  0.04524389]\n",
      "  [-0.04479643  0.02844019  0.01287934 -0.02897902  0.00014589\n",
      "   -0.02028159  0.01527867 -0.01179198  0.03819628  0.04524389]\n",
      "  [-0.03126486  0.04576689 -0.04218013 -0.00801896 -0.00971264\n",
      "    0.03097136  0.01938012 -0.02908775 -0.02521729 -0.03264459]\n",
      "  [-0.04604323  0.0014962  -0.00430697 -0.00389198 -0.00362401\n",
      "   -0.03140278  0.02647949 -0.02219082  0.03963673 -0.03739085]\n",
      "  [-0.03701518  0.00999738 -0.0093514  -0.02848363  0.02798022\n",
      "    0.00205395 -0.00462811 -0.04918873 -0.00778763 -0.04702246]\n",
      "  [ 0.00519462  0.04594709 -0.01410697 -0.03455491 -0.00465499\n",
      "    0.01590722  0.01880756  0.01365152  0.01990477 -0.02567197]\n",
      "  [-0.03321343 -0.02863772  0.03830108 -0.00507405  0.00239028\n",
      "    0.0296482  -0.00114051 -0.02366576 -0.02716904 -0.02061231]]\n",
      "\n",
      " [[-0.04479643  0.02844019  0.01287934 -0.02897902  0.00014589\n",
      "   -0.02028159  0.01527867 -0.01179198  0.03819628  0.04524389]\n",
      "  [-0.04479643  0.02844019  0.01287934 -0.02897902  0.00014589\n",
      "   -0.02028159  0.01527867 -0.01179198  0.03819628  0.04524389]\n",
      "  [-0.04479643  0.02844019  0.01287934 -0.02897902  0.00014589\n",
      "   -0.02028159  0.01527867 -0.01179198  0.03819628  0.04524389]\n",
      "  [-0.03126486  0.04576689 -0.04218013 -0.00801896 -0.00971264\n",
      "    0.03097136  0.01938012 -0.02908775 -0.02521729 -0.03264459]\n",
      "  [-0.04604323  0.0014962  -0.00430697 -0.00389198 -0.00362401\n",
      "   -0.03140278  0.02647949 -0.02219082  0.03963673 -0.03739085]\n",
      "  [-0.03701518  0.00999738 -0.0093514  -0.02848363  0.02798022\n",
      "    0.00205395 -0.00462811 -0.04918873 -0.00778763 -0.04702246]\n",
      "  [ 0.00519462  0.04594709 -0.01410697 -0.03455491 -0.00465499\n",
      "    0.01590722  0.01880756  0.01365152  0.01990477 -0.02567197]\n",
      "  [ 0.01494665  0.00020234  0.02896682 -0.01114372  0.01576797\n",
      "   -0.00154113  0.00276111 -0.02609468 -0.00780527 -0.0034994 ]]\n",
      "\n",
      " [[-0.04479643  0.02844019  0.01287934 -0.02897902  0.00014589\n",
      "   -0.02028159  0.01527867 -0.01179198  0.03819628  0.04524389]\n",
      "  [-0.04479643  0.02844019  0.01287934 -0.02897902  0.00014589\n",
      "   -0.02028159  0.01527867 -0.01179198  0.03819628  0.04524389]\n",
      "  [-0.04479643  0.02844019  0.01287934 -0.02897902  0.00014589\n",
      "   -0.02028159  0.01527867 -0.01179198  0.03819628  0.04524389]\n",
      "  [ 0.02679657 -0.04887011  0.022821    0.0342788  -0.02751\n",
      "    0.01618988 -0.04686622  0.04381701  0.02598116  0.01116009]\n",
      "  [-0.00658915  0.04582271 -0.02644706 -0.01048678  0.03637138\n",
      "   -0.03989167  0.04005451  0.00087429  0.0447976  -0.00585743]\n",
      "  [ 0.02116953  0.03631886  0.00588844  0.04826746 -0.00073747\n",
      "    0.00471929 -0.04112655  0.00763642  0.01721168  0.03127301]\n",
      "  [ 0.01534684  0.00980027 -0.00316089 -0.03258036  0.02572112\n",
      "    0.00107576 -0.02151345 -0.00464147 -0.0267361  -0.00737701]\n",
      "  [-0.04829484  0.03456761  0.04380361 -0.01765964  0.03040409\n",
      "    0.00865617  0.03461324 -0.02609904 -0.00786191  0.00352507]]\n",
      "\n",
      " [[-0.04479643  0.02844019  0.01287934 -0.02897902  0.00014589\n",
      "   -0.02028159  0.01527867 -0.01179198  0.03819628  0.04524389]\n",
      "  [-0.04479643  0.02844019  0.01287934 -0.02897902  0.00014589\n",
      "   -0.02028159  0.01527867 -0.01179198  0.03819628  0.04524389]\n",
      "  [-0.04479643  0.02844019  0.01287934 -0.02897902  0.00014589\n",
      "   -0.02028159  0.01527867 -0.01179198  0.03819628  0.04524389]\n",
      "  [-0.04479643  0.02844019  0.01287934 -0.02897902  0.00014589\n",
      "   -0.02028159  0.01527867 -0.01179198  0.03819628  0.04524389]\n",
      "  [ 0.03870635  0.04549572  0.03809816  0.01148874 -0.04066992\n",
      "   -0.01519535  0.02650466 -0.04072498  0.04482803  0.02402982]\n",
      "  [-0.03955839 -0.02109841 -0.03471608 -0.02117423 -0.02314517\n",
      "    0.00397278  0.03367108  0.00110974  0.0277209  -0.005289  ]\n",
      "  [ 0.02017864 -0.03906748  0.03688793 -0.00945088 -0.00398468\n",
      "    0.00487415 -0.0467064  -0.04555894 -0.0296768   0.01818415]\n",
      "  [ 0.00519462  0.04594709 -0.01410697 -0.03455491 -0.00465499\n",
      "    0.01590722  0.01880756  0.01365152  0.01990477 -0.02567197]]]\n"
     ]
    }
   ],
   "source": [
    "predictions = model.predict(embedded_docs)\n",
    "print(predictions)"
   ]
  },
  {
   "cell_type": "code",
   "execution_count": 88,
   "metadata": {},
   "outputs": [
    {
     "data": {
      "text/plain": [
       "array([   0,    0,    0,    0, 2287, 5327, 1485, 1642])"
      ]
     },
     "execution_count": 88,
     "metadata": {},
     "output_type": "execute_result"
    }
   ],
   "source": [
    "embedded_docs[0]"
   ]
  },
  {
   "cell_type": "code",
   "execution_count": 92,
   "metadata": {},
   "outputs": [
    {
     "name": "stdout",
     "output_type": "stream",
     "text": [
      "\u001b[1m1/1\u001b[0m \u001b[32m━━━━━━━━━━━━━━━━━━━━\u001b[0m\u001b[37m\u001b[0m \u001b[1m0s\u001b[0m 50ms/step\n",
      "[[[-0.04479643  0.02844019  0.01287934 -0.02897902  0.00014589\n",
      "   -0.02028159  0.01527867 -0.01179198  0.03819628  0.04524389]\n",
      "  [-0.04479643  0.02844019  0.01287934 -0.02897902  0.00014589\n",
      "   -0.02028159  0.01527867 -0.01179198  0.03819628  0.04524389]\n",
      "  [-0.04479643  0.02844019  0.01287934 -0.02897902  0.00014589\n",
      "   -0.02028159  0.01527867 -0.01179198  0.03819628  0.04524389]\n",
      "  [-0.04479643  0.02844019  0.01287934 -0.02897902  0.00014589\n",
      "   -0.02028159  0.01527867 -0.01179198  0.03819628  0.04524389]\n",
      "  [-0.00658915  0.04582271 -0.02644706 -0.01048678  0.03637138\n",
      "   -0.03989167  0.04005451  0.00087429  0.0447976  -0.00585743]\n",
      "  [ 0.00036192  0.01612816 -0.00611817 -0.02337911 -0.02481499\n",
      "    0.03958592 -0.04729197 -0.0399524   0.03414967 -0.04837588]\n",
      "  [ 0.01534684  0.00980027 -0.00316089 -0.03258036  0.02572112\n",
      "    0.00107576 -0.02151345 -0.00464147 -0.0267361  -0.00737701]\n",
      "  [-0.01299536 -0.00529871  0.01510835 -0.03102299  0.03051754\n",
      "    0.03635845 -0.02123047  0.04708228  0.00042553 -0.00332801]]]\n"
     ]
    }
   ],
   "source": [
    "input_data = np.expand_dims(embedded_docs[0], axis=0)\n",
    "\n",
    "# Now make the prediction\n",
    "predictions = model.predict(input_data)\n",
    "print(predictions)"
   ]
  },
  {
   "cell_type": "code",
   "execution_count": null,
   "metadata": {},
   "outputs": [],
   "source": []
  }
 ],
 "metadata": {
  "kernelspec": {
   "display_name": "Python 3",
   "language": "python",
   "name": "python3"
  },
  "language_info": {
   "codemirror_mode": {
    "name": "ipython",
    "version": 3
   },
   "file_extension": ".py",
   "mimetype": "text/x-python",
   "name": "python",
   "nbconvert_exporter": "python",
   "pygments_lexer": "ipython3",
   "version": "3.11.11"
  }
 },
 "nbformat": 4,
 "nbformat_minor": 2
}
